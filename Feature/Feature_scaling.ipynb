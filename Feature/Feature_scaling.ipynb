{
 "cells": [
  {
   "cell_type": "code",
   "execution_count": 1,
   "metadata": {
    "colab": {
     "base_uri": "https://localhost:8080/"
    },
    "executionInfo": {
     "elapsed": 2255,
     "status": "ok",
     "timestamp": 1670965154145,
     "user": {
      "displayName": "강민수",
      "userId": "02270149204876897928"
     },
     "user_tz": -540
    },
    "id": "XPa4lB26gfu3",
    "outputId": "480cc337-de5a-4a17-8af7-5061fe9b8e11"
   },
   "outputs": [
    {
     "name": "stdout",
     "output_type": "stream",
     "text": [
      "Drive already mounted at /content/drive; to attempt to forcibly remount, call drive.mount(\"/content/drive\", force_remount=True).\n"
     ]
    }
   ],
   "source": [
    "# from google.colab import drive\n",
    "# drive.mount('/content/drive')"
   ]
  },
  {
   "cell_type": "code",
   "execution_count": 2,
   "metadata": {
    "executionInfo": {
     "elapsed": 7,
     "status": "ok",
     "timestamp": 1670965154146,
     "user": {
      "displayName": "강민수",
      "userId": "02270149204876897928"
     },
     "user_tz": -540
    },
    "id": "FYYW123ENTYb",
    "tags": [
     "parameters"
    ]
   },
   "outputs": [],
   "source": [
    "NFOLDS = 10\n",
    "SEED = 22"
   ]
  },
  {
   "cell_type": "code",
   "execution_count": 3,
   "metadata": {
    "colab": {
     "base_uri": "https://localhost:8080/"
    },
    "executionInfo": {
     "elapsed": 8629,
     "status": "ok",
     "timestamp": 1670965162770,
     "user": {
      "displayName": "강민수",
      "userId": "02270149204876897928"
     },
     "user_tz": -540
    },
    "id": "m3Y6Q-zrVbFH",
    "outputId": "e8c3314c-9a35-446d-f22f-88989470f2f7"
   },
   "outputs": [
    {
     "name": "stdout",
     "output_type": "stream",
     "text": [
      "Looking in indexes: https://pypi.org/simple, https://us-python.pkg.dev/colab-wheels/public/simple/\n",
      "Requirement already satisfied: catboost in /usr/local/lib/python3.8/dist-packages (1.1.1)\n",
      "Requirement already satisfied: scipy in /usr/local/lib/python3.8/dist-packages (from catboost) (1.7.3)\n",
      "Requirement already satisfied: numpy>=1.16.0 in /usr/local/lib/python3.8/dist-packages (from catboost) (1.21.6)\n",
      "Requirement already satisfied: graphviz in /usr/local/lib/python3.8/dist-packages (from catboost) (0.10.1)\n",
      "Requirement already satisfied: six in /usr/local/lib/python3.8/dist-packages (from catboost) (1.15.0)\n",
      "Requirement already satisfied: plotly in /usr/local/lib/python3.8/dist-packages (from catboost) (5.5.0)\n",
      "Requirement already satisfied: pandas>=0.24.0 in /usr/local/lib/python3.8/dist-packages (from catboost) (1.3.5)\n",
      "Requirement already satisfied: matplotlib in /usr/local/lib/python3.8/dist-packages (from catboost) (3.2.2)\n",
      "Requirement already satisfied: python-dateutil>=2.7.3 in /usr/local/lib/python3.8/dist-packages (from pandas>=0.24.0->catboost) (2.8.2)\n",
      "Requirement already satisfied: pytz>=2017.3 in /usr/local/lib/python3.8/dist-packages (from pandas>=0.24.0->catboost) (2022.6)\n",
      "Requirement already satisfied: kiwisolver>=1.0.1 in /usr/local/lib/python3.8/dist-packages (from matplotlib->catboost) (1.4.4)\n",
      "Requirement already satisfied: pyparsing!=2.0.4,!=2.1.2,!=2.1.6,>=2.0.1 in /usr/local/lib/python3.8/dist-packages (from matplotlib->catboost) (3.0.9)\n",
      "Requirement already satisfied: cycler>=0.10 in /usr/local/lib/python3.8/dist-packages (from matplotlib->catboost) (0.11.0)\n",
      "Requirement already satisfied: tenacity>=6.2.0 in /usr/local/lib/python3.8/dist-packages (from plotly->catboost) (8.1.0)\n",
      "Looking in indexes: https://pypi.org/simple, https://us-python.pkg.dev/colab-wheels/public/simple/\n",
      "Requirement already satisfied: category_encoders in /usr/local/lib/python3.8/dist-packages (2.5.1.post0)\n",
      "Requirement already satisfied: statsmodels>=0.9.0 in /usr/local/lib/python3.8/dist-packages (from category_encoders) (0.12.2)\n",
      "Requirement already satisfied: patsy>=0.5.1 in /usr/local/lib/python3.8/dist-packages (from category_encoders) (0.5.3)\n",
      "Requirement already satisfied: numpy>=1.14.0 in /usr/local/lib/python3.8/dist-packages (from category_encoders) (1.21.6)\n",
      "Requirement already satisfied: scikit-learn>=0.20.0 in /usr/local/lib/python3.8/dist-packages (from category_encoders) (1.0.2)\n",
      "Requirement already satisfied: scipy>=1.0.0 in /usr/local/lib/python3.8/dist-packages (from category_encoders) (1.7.3)\n",
      "Requirement already satisfied: pandas>=1.0.5 in /usr/local/lib/python3.8/dist-packages (from category_encoders) (1.3.5)\n",
      "Requirement already satisfied: python-dateutil>=2.7.3 in /usr/local/lib/python3.8/dist-packages (from pandas>=1.0.5->category_encoders) (2.8.2)\n",
      "Requirement already satisfied: pytz>=2017.3 in /usr/local/lib/python3.8/dist-packages (from pandas>=1.0.5->category_encoders) (2022.6)\n",
      "Requirement already satisfied: six in /usr/local/lib/python3.8/dist-packages (from patsy>=0.5.1->category_encoders) (1.15.0)\n",
      "Requirement already satisfied: threadpoolctl>=2.0.0 in /usr/local/lib/python3.8/dist-packages (from scikit-learn>=0.20.0->category_encoders) (3.1.0)\n",
      "Requirement already satisfied: joblib>=0.11 in /usr/local/lib/python3.8/dist-packages (from scikit-learn>=0.20.0->category_encoders) (1.2.0)\n",
      "Looking in indexes: https://pypi.org/simple, https://us-python.pkg.dev/colab-wheels/public/simple/\n",
      "Requirement already satisfied: optuna in /usr/local/lib/python3.8/dist-packages (3.0.4)\n",
      "Requirement already satisfied: packaging>=20.0 in /usr/local/lib/python3.8/dist-packages (from optuna) (21.3)\n",
      "Requirement already satisfied: cliff in /usr/local/lib/python3.8/dist-packages (from optuna) (4.1.0)\n",
      "Requirement already satisfied: alembic>=1.5.0 in /usr/local/lib/python3.8/dist-packages (from optuna) (1.8.1)\n",
      "Requirement already satisfied: PyYAML in /usr/local/lib/python3.8/dist-packages (from optuna) (6.0)\n",
      "Requirement already satisfied: numpy in /usr/local/lib/python3.8/dist-packages (from optuna) (1.21.6)\n",
      "Requirement already satisfied: importlib-metadata<5.0.0 in /usr/local/lib/python3.8/dist-packages (from optuna) (4.13.0)\n",
      "Requirement already satisfied: scipy<1.9.0,>=1.7.0 in /usr/local/lib/python3.8/dist-packages (from optuna) (1.7.3)\n",
      "Requirement already satisfied: cmaes>=0.8.2 in /usr/local/lib/python3.8/dist-packages (from optuna) (0.9.0)\n",
      "Requirement already satisfied: colorlog in /usr/local/lib/python3.8/dist-packages (from optuna) (6.7.0)\n",
      "Requirement already satisfied: tqdm in /usr/local/lib/python3.8/dist-packages (from optuna) (4.64.1)\n",
      "Requirement already satisfied: sqlalchemy>=1.3.0 in /usr/local/lib/python3.8/dist-packages (from optuna) (1.4.44)\n",
      "Requirement already satisfied: Mako in /usr/local/lib/python3.8/dist-packages (from alembic>=1.5.0->optuna) (1.2.4)\n",
      "Requirement already satisfied: importlib-resources in /usr/local/lib/python3.8/dist-packages (from alembic>=1.5.0->optuna) (5.10.0)\n",
      "Requirement already satisfied: zipp>=0.5 in /usr/local/lib/python3.8/dist-packages (from importlib-metadata<5.0.0->optuna) (3.11.0)\n",
      "Requirement already satisfied: pyparsing!=3.0.5,>=2.0.2 in /usr/local/lib/python3.8/dist-packages (from packaging>=20.0->optuna) (3.0.9)\n",
      "Requirement already satisfied: greenlet!=0.4.17 in /usr/local/lib/python3.8/dist-packages (from sqlalchemy>=1.3.0->optuna) (2.0.1)\n",
      "Requirement already satisfied: autopage>=0.4.0 in /usr/local/lib/python3.8/dist-packages (from cliff->optuna) (0.5.1)\n",
      "Requirement already satisfied: PrettyTable>=0.7.2 in /usr/local/lib/python3.8/dist-packages (from cliff->optuna) (3.5.0)\n",
      "Requirement already satisfied: cmd2>=1.0.0 in /usr/local/lib/python3.8/dist-packages (from cliff->optuna) (2.4.2)\n",
      "Requirement already satisfied: stevedore>=2.0.1 in /usr/local/lib/python3.8/dist-packages (from cliff->optuna) (4.1.1)\n",
      "Requirement already satisfied: wcwidth>=0.1.7 in /usr/local/lib/python3.8/dist-packages (from cmd2>=1.0.0->cliff->optuna) (0.2.5)\n",
      "Requirement already satisfied: pyperclip>=1.6 in /usr/local/lib/python3.8/dist-packages (from cmd2>=1.0.0->cliff->optuna) (1.8.2)\n",
      "Requirement already satisfied: attrs>=16.3.0 in /usr/local/lib/python3.8/dist-packages (from cmd2>=1.0.0->cliff->optuna) (22.1.0)\n",
      "Requirement already satisfied: pbr!=2.1.0,>=2.0.0 in /usr/local/lib/python3.8/dist-packages (from stevedore>=2.0.1->cliff->optuna) (5.11.0)\n",
      "Requirement already satisfied: MarkupSafe>=0.9.2 in /usr/local/lib/python3.8/dist-packages (from Mako->alembic>=1.5.0->optuna) (2.0.1)\n"
     ]
    }
   ],
   "source": [
    "# !pip install catboost\n",
    "# !pip install category_encoders\n",
    "# !pip install optuna"
   ]
  },
  {
   "cell_type": "code",
   "execution_count": 4,
   "metadata": {
    "executionInfo": {
     "elapsed": 1071,
     "status": "ok",
     "timestamp": 1670965163839,
     "user": {
      "displayName": "강민수",
      "userId": "02270149204876897928"
     },
     "user_tz": -540
    },
    "id": "pd5pl1HpNTYd"
   },
   "outputs": [],
   "source": [
    "%matplotlib inline\n",
    "import warnings\n",
    "warnings.filterwarnings(\"ignore\")\n",
    "\n",
    "import pandas as pd\n",
    "import numpy as np\n",
    "import matplotlib.pyplot as plt\n",
    "import seaborn as sns\n",
    "from sklearn.pipeline import Pipeline\n",
    "from sklearn.compose import ColumnTransformer\n",
    "from sklearn.preprocessing import FunctionTransformer\n",
    "from sklearn.base import BaseEstimator, TransformerMixin\n",
    "from sklearn.impute import SimpleImputer\n",
    "from sklearn.preprocessing import StandardScaler\n",
    "from sklearn.preprocessing import MinMaxScaler\n",
    "from sklearn.preprocessing import PowerTransformer\n",
    "from sklearn.preprocessing import Normalizer\n",
    "from sklearn.preprocessing import RobustScaler\n",
    "from sklearn.preprocessing import MaxAbsScaler\n",
    "from sklearn.preprocessing import OrdinalEncoder\n",
    "from sklearn.decomposition import PCA\n",
    "from sklearn.feature_selection import SelectPercentile\n",
    "from sklearn.model_selection import train_test_split, cross_val_score, cross_validate, ShuffleSplit\n",
    "from sklearn.metrics import mean_squared_error\n",
    "from sklearn import set_config\n",
    "from sklearn.feature_extraction.text import CountVectorizer\n",
    "from sklearn.compose import TransformedTargetRegressor\n",
    "from lightgbm import LGBMRegressor\n",
    "from catboost import CatBoostRegressor\n",
    "\n",
    "import lightgbm as lgb\n",
    "from category_encoders import CatBoostEncoder\n",
    "import optuna\n",
    "from optuna.distributions import CategoricalDistribution, IntDistribution, FloatDistribution\n",
    "from optuna.integration import OptunaSearchCV\n",
    "from optuna.integration.lightgbm import LightGBMTunerCV\n",
    "from scipy.sparse import csr_matrix\n",
    "import re"
   ]
  },
  {
   "cell_type": "markdown",
   "metadata": {
    "id": "lMdgebWGNTYf"
   },
   "source": [
    "#### Load data"
   ]
  },
  {
   "cell_type": "code",
   "execution_count": 5,
   "metadata": {
    "executionInfo": {
     "elapsed": 501,
     "status": "ok",
     "timestamp": 1670965164336,
     "user": {
      "displayName": "강민수",
      "userId": "02270149204876897928"
     },
     "user_tz": -540
    },
    "id": "bWwllTlMNTYg"
   },
   "outputs": [],
   "source": [
    "X_train = pd.read_csv('/content/drive/MyDrive/감귤착과량공모전/data/X_train_set.csv')\n",
    "X_test = pd.read_csv('/content/drive/MyDrive/감귤착과량공모전/data/X_test_set.csv')\n",
    "\n",
    "y_train = pd.read_csv('/content/drive/MyDrive/감귤착과량공모전/data/train.csv')['착과량(int)']"
   ]
  },
  {
   "cell_type": "markdown",
   "metadata": {
    "id": "4v2N2SwvNTYl"
   },
   "source": [
    "#### 수치형/범주형 피처 분리"
   ]
  },
  {
   "cell_type": "code",
   "execution_count": 6,
   "metadata": {
    "colab": {
     "base_uri": "https://localhost:8080/"
    },
    "executionInfo": {
     "elapsed": 6,
     "status": "ok",
     "timestamp": 1670965164337,
     "user": {
      "displayName": "강민수",
      "userId": "02270149204876897928"
     },
     "user_tz": -540
    },
    "id": "wRBKLmRvNTYm",
    "outputId": "827100b4-8f99-4b82-e7f0-db502ae77804"
   },
   "outputs": [
    {
     "data": {
      "text/plain": [
       "((2207, 564), (2208, 564))"
      ]
     },
     "execution_count": 6,
     "metadata": {},
     "output_type": "execute_result"
    }
   ],
   "source": [
    "numeric_features = list(X_train.columns)\n",
    "\n",
    "X_train = X_train[numeric_features]  # 순서 주의!!!\n",
    "X_test = X_test[numeric_features]\n",
    "\n",
    "X_train.shape, X_test.shape"
   ]
  },
  {
   "cell_type": "markdown",
   "metadata": {
    "id": "5SGoWxavNTYo"
   },
   "source": [
    "####  파이프라인 구축"
   ]
  },
  {
   "cell_type": "code",
   "execution_count": 7,
   "metadata": {
    "executionInfo": {
     "elapsed": 5,
     "status": "ok",
     "timestamp": 1670965164337,
     "user": {
      "displayName": "강민수",
      "userId": "02270149204876897928"
     },
     "user_tz": -540
    },
    "id": "A03TAczJJP7f"
   },
   "outputs": [],
   "source": [
    "def NMAE_CV(clf, x, y):\n",
    "    pred = clf.predict(x)\n",
    "    mae = np.mean(np.abs(y - pred))\n",
    "    score = mae / np.mean(np.abs(y))\n",
    "    return score"
   ]
  },
  {
   "cell_type": "code",
   "execution_count": 8,
   "metadata": {
    "colab": {
     "base_uri": "https://localhost:8080/",
     "height": 253
    },
    "executionInfo": {
     "elapsed": 356,
     "status": "ok",
     "timestamp": 1670965164689,
     "user": {
      "displayName": "강민수",
      "userId": "02270149204876897928"
     },
     "user_tz": -540
    },
    "id": "bKaIjobVNTYp",
    "outputId": "485bc4ca-6ee2-4fd8-c2f4-2a821657aa79"
   },
   "outputs": [
    {
     "data": {
      "text/html": [
       "<style>#sk-6120fe7c-7fc8-4359-804a-9b4b773a3463 {color: black;background-color: white;}#sk-6120fe7c-7fc8-4359-804a-9b4b773a3463 pre{padding: 0;}#sk-6120fe7c-7fc8-4359-804a-9b4b773a3463 div.sk-toggleable {background-color: white;}#sk-6120fe7c-7fc8-4359-804a-9b4b773a3463 label.sk-toggleable__label {cursor: pointer;display: block;width: 100%;margin-bottom: 0;padding: 0.3em;box-sizing: border-box;text-align: center;}#sk-6120fe7c-7fc8-4359-804a-9b4b773a3463 label.sk-toggleable__label-arrow:before {content: \"▸\";float: left;margin-right: 0.25em;color: #696969;}#sk-6120fe7c-7fc8-4359-804a-9b4b773a3463 label.sk-toggleable__label-arrow:hover:before {color: black;}#sk-6120fe7c-7fc8-4359-804a-9b4b773a3463 div.sk-estimator:hover label.sk-toggleable__label-arrow:before {color: black;}#sk-6120fe7c-7fc8-4359-804a-9b4b773a3463 div.sk-toggleable__content {max-height: 0;max-width: 0;overflow: hidden;text-align: left;background-color: #f0f8ff;}#sk-6120fe7c-7fc8-4359-804a-9b4b773a3463 div.sk-toggleable__content pre {margin: 0.2em;color: black;border-radius: 0.25em;background-color: #f0f8ff;}#sk-6120fe7c-7fc8-4359-804a-9b4b773a3463 input.sk-toggleable__control:checked~div.sk-toggleable__content {max-height: 200px;max-width: 100%;overflow: auto;}#sk-6120fe7c-7fc8-4359-804a-9b4b773a3463 input.sk-toggleable__control:checked~label.sk-toggleable__label-arrow:before {content: \"▾\";}#sk-6120fe7c-7fc8-4359-804a-9b4b773a3463 div.sk-estimator input.sk-toggleable__control:checked~label.sk-toggleable__label {background-color: #d4ebff;}#sk-6120fe7c-7fc8-4359-804a-9b4b773a3463 div.sk-label input.sk-toggleable__control:checked~label.sk-toggleable__label {background-color: #d4ebff;}#sk-6120fe7c-7fc8-4359-804a-9b4b773a3463 input.sk-hidden--visually {border: 0;clip: rect(1px 1px 1px 1px);clip: rect(1px, 1px, 1px, 1px);height: 1px;margin: -1px;overflow: hidden;padding: 0;position: absolute;width: 1px;}#sk-6120fe7c-7fc8-4359-804a-9b4b773a3463 div.sk-estimator {font-family: monospace;background-color: #f0f8ff;border: 1px dotted black;border-radius: 0.25em;box-sizing: border-box;margin-bottom: 0.5em;}#sk-6120fe7c-7fc8-4359-804a-9b4b773a3463 div.sk-estimator:hover {background-color: #d4ebff;}#sk-6120fe7c-7fc8-4359-804a-9b4b773a3463 div.sk-parallel-item::after {content: \"\";width: 100%;border-bottom: 1px solid gray;flex-grow: 1;}#sk-6120fe7c-7fc8-4359-804a-9b4b773a3463 div.sk-label:hover label.sk-toggleable__label {background-color: #d4ebff;}#sk-6120fe7c-7fc8-4359-804a-9b4b773a3463 div.sk-serial::before {content: \"\";position: absolute;border-left: 1px solid gray;box-sizing: border-box;top: 2em;bottom: 0;left: 50%;}#sk-6120fe7c-7fc8-4359-804a-9b4b773a3463 div.sk-serial {display: flex;flex-direction: column;align-items: center;background-color: white;padding-right: 0.2em;padding-left: 0.2em;}#sk-6120fe7c-7fc8-4359-804a-9b4b773a3463 div.sk-item {z-index: 1;}#sk-6120fe7c-7fc8-4359-804a-9b4b773a3463 div.sk-parallel {display: flex;align-items: stretch;justify-content: center;background-color: white;}#sk-6120fe7c-7fc8-4359-804a-9b4b773a3463 div.sk-parallel::before {content: \"\";position: absolute;border-left: 1px solid gray;box-sizing: border-box;top: 2em;bottom: 0;left: 50%;}#sk-6120fe7c-7fc8-4359-804a-9b4b773a3463 div.sk-parallel-item {display: flex;flex-direction: column;position: relative;background-color: white;}#sk-6120fe7c-7fc8-4359-804a-9b4b773a3463 div.sk-parallel-item:first-child::after {align-self: flex-end;width: 50%;}#sk-6120fe7c-7fc8-4359-804a-9b4b773a3463 div.sk-parallel-item:last-child::after {align-self: flex-start;width: 50%;}#sk-6120fe7c-7fc8-4359-804a-9b4b773a3463 div.sk-parallel-item:only-child::after {width: 0;}#sk-6120fe7c-7fc8-4359-804a-9b4b773a3463 div.sk-dashed-wrapped {border: 1px dashed gray;margin: 0 0.4em 0.5em 0.4em;box-sizing: border-box;padding-bottom: 0.4em;background-color: white;position: relative;}#sk-6120fe7c-7fc8-4359-804a-9b4b773a3463 div.sk-label label {font-family: monospace;font-weight: bold;background-color: white;display: inline-block;line-height: 1.2em;}#sk-6120fe7c-7fc8-4359-804a-9b4b773a3463 div.sk-label-container {position: relative;z-index: 2;text-align: center;}#sk-6120fe7c-7fc8-4359-804a-9b4b773a3463 div.sk-container {/* jupyter's `normalize.less` sets `[hidden] { display: none; }` but bootstrap.min.css set `[hidden] { display: none !important; }` so we also need the `!important` here to be able to override the default hidden behavior on the sphinx rendered scikit-learn.org. See: https://github.com/scikit-learn/scikit-learn/issues/21755 */display: inline-block !important;position: relative;}#sk-6120fe7c-7fc8-4359-804a-9b4b773a3463 div.sk-text-repr-fallback {display: none;}</style><div id=\"sk-6120fe7c-7fc8-4359-804a-9b4b773a3463\" class=\"sk-top-container\"><div class=\"sk-text-repr-fallback\"><pre>Pipeline(steps=[(&#x27;preprocessor&#x27;,\n",
       "                 Pipeline(steps=[(&#x27;column&#x27;,\n",
       "                                  ColumnTransformer(transformers=[(&#x27;num&#x27;,\n",
       "                                                                   Pipeline(steps=[(&#x27;outlier&#x27;,\n",
       "                                                                                    FunctionTransformer(func=&lt;function remove_outlier at 0x7fd380a604c0&gt;,\n",
       "                                                                                                        kw_args={&#x27;q&#x27;: 0.04})),\n",
       "                                                                                   (&#x27;scaler&#x27;,\n",
       "                                                                                    MaxAbsScaler())]),\n",
       "                                                                   [&#x27;수고(m)&#x27;,\n",
       "                                                                    &#x27;수관폭1(min)&#x27;,\n",
       "                                                                    &#x27;수관폭2(max)&#x27;,\n",
       "                                                                    &#x27;수관폭평균&#x27;,\n",
       "                                                                    &#x27;2022-09-01 &#x27;\n",
       "                                                                    &#x27;새순&#x27;,\n",
       "                                                                    &#x27;2022-09-02 &#x27;\n",
       "                                                                    &#x27;새순&#x27;,\n",
       "                                                                    &#x27;2022-09-03 &#x27;\n",
       "                                                                    &#x27;새순&#x27;,\n",
       "                                                                    &#x27;2022-09-04 &#x27;\n",
       "                                                                    &#x27;새순&#x27;,\n",
       "                                                                    &#x27;2...\n",
       "                                                                    &#x27;2022-09-12 &#x27;\n",
       "                                                                    &#x27;새순&#x27;,\n",
       "                                                                    &#x27;2022-09-13 &#x27;\n",
       "                                                                    &#x27;새순&#x27;,\n",
       "                                                                    &#x27;2022-09-14 &#x27;\n",
       "                                                                    &#x27;새순&#x27;,\n",
       "                                                                    &#x27;2022-09-15 &#x27;\n",
       "                                                                    &#x27;새순&#x27;,\n",
       "                                                                    &#x27;2022-09-16 &#x27;\n",
       "                                                                    &#x27;새순&#x27;,\n",
       "                                                                    &#x27;2022-09-17 &#x27;\n",
       "                                                                    &#x27;새순&#x27;,\n",
       "                                                                    &#x27;2022-09-18 &#x27;\n",
       "                                                                    &#x27;새순&#x27;,\n",
       "                                                                    &#x27;2022-09-19 &#x27;\n",
       "                                                                    &#x27;새순&#x27;,\n",
       "                                                                    &#x27;2022-09-20 &#x27;\n",
       "                                                                    &#x27;새순&#x27;,\n",
       "                                                                    &#x27;2022-09-21 &#x27;\n",
       "                                                                    &#x27;새순&#x27;,\n",
       "                                                                    &#x27;2022-09-22 &#x27;\n",
       "                                                                    &#x27;새순&#x27;,\n",
       "                                                                    &#x27;2022-09-23 &#x27;\n",
       "                                                                    &#x27;새순&#x27;,\n",
       "                                                                    &#x27;2022-09-24 &#x27;\n",
       "                                                                    &#x27;새순&#x27;,\n",
       "                                                                    &#x27;2022-09-25 &#x27;\n",
       "                                                                    &#x27;새순&#x27;,\n",
       "                                                                    &#x27;2022-09-26 &#x27;\n",
       "                                                                    &#x27;새순&#x27;, ...])]))])),\n",
       "                (&#x27;classifier&#x27;,\n",
       "                 LGBMRegressor(metric=&#x27;mae&#x27;, objective=&#x27;regression&#x27;,\n",
       "                               random_state=22))])</pre><b>Please rerun this cell to show the HTML repr or trust the notebook.</b></div><div class=\"sk-container\" hidden><div class=\"sk-item sk-dashed-wrapped\"><div class=\"sk-label-container\"><div class=\"sk-label sk-toggleable\"><input class=\"sk-toggleable__control sk-hidden--visually\" id=\"d18c370b-d0b5-417f-b897-2be99c7696fb\" type=\"checkbox\" ><label for=\"d18c370b-d0b5-417f-b897-2be99c7696fb\" class=\"sk-toggleable__label sk-toggleable__label-arrow\">Pipeline</label><div class=\"sk-toggleable__content\"><pre>Pipeline(steps=[(&#x27;preprocessor&#x27;,\n",
       "                 Pipeline(steps=[(&#x27;column&#x27;,\n",
       "                                  ColumnTransformer(transformers=[(&#x27;num&#x27;,\n",
       "                                                                   Pipeline(steps=[(&#x27;outlier&#x27;,\n",
       "                                                                                    FunctionTransformer(func=&lt;function remove_outlier at 0x7fd380a604c0&gt;,\n",
       "                                                                                                        kw_args={&#x27;q&#x27;: 0.04})),\n",
       "                                                                                   (&#x27;scaler&#x27;,\n",
       "                                                                                    MaxAbsScaler())]),\n",
       "                                                                   [&#x27;수고(m)&#x27;,\n",
       "                                                                    &#x27;수관폭1(min)&#x27;,\n",
       "                                                                    &#x27;수관폭2(max)&#x27;,\n",
       "                                                                    &#x27;수관폭평균&#x27;,\n",
       "                                                                    &#x27;2022-09-01 &#x27;\n",
       "                                                                    &#x27;새순&#x27;,\n",
       "                                                                    &#x27;2022-09-02 &#x27;\n",
       "                                                                    &#x27;새순&#x27;,\n",
       "                                                                    &#x27;2022-09-03 &#x27;\n",
       "                                                                    &#x27;새순&#x27;,\n",
       "                                                                    &#x27;2022-09-04 &#x27;\n",
       "                                                                    &#x27;새순&#x27;,\n",
       "                                                                    &#x27;2...\n",
       "                                                                    &#x27;2022-09-12 &#x27;\n",
       "                                                                    &#x27;새순&#x27;,\n",
       "                                                                    &#x27;2022-09-13 &#x27;\n",
       "                                                                    &#x27;새순&#x27;,\n",
       "                                                                    &#x27;2022-09-14 &#x27;\n",
       "                                                                    &#x27;새순&#x27;,\n",
       "                                                                    &#x27;2022-09-15 &#x27;\n",
       "                                                                    &#x27;새순&#x27;,\n",
       "                                                                    &#x27;2022-09-16 &#x27;\n",
       "                                                                    &#x27;새순&#x27;,\n",
       "                                                                    &#x27;2022-09-17 &#x27;\n",
       "                                                                    &#x27;새순&#x27;,\n",
       "                                                                    &#x27;2022-09-18 &#x27;\n",
       "                                                                    &#x27;새순&#x27;,\n",
       "                                                                    &#x27;2022-09-19 &#x27;\n",
       "                                                                    &#x27;새순&#x27;,\n",
       "                                                                    &#x27;2022-09-20 &#x27;\n",
       "                                                                    &#x27;새순&#x27;,\n",
       "                                                                    &#x27;2022-09-21 &#x27;\n",
       "                                                                    &#x27;새순&#x27;,\n",
       "                                                                    &#x27;2022-09-22 &#x27;\n",
       "                                                                    &#x27;새순&#x27;,\n",
       "                                                                    &#x27;2022-09-23 &#x27;\n",
       "                                                                    &#x27;새순&#x27;,\n",
       "                                                                    &#x27;2022-09-24 &#x27;\n",
       "                                                                    &#x27;새순&#x27;,\n",
       "                                                                    &#x27;2022-09-25 &#x27;\n",
       "                                                                    &#x27;새순&#x27;,\n",
       "                                                                    &#x27;2022-09-26 &#x27;\n",
       "                                                                    &#x27;새순&#x27;, ...])]))])),\n",
       "                (&#x27;classifier&#x27;,\n",
       "                 LGBMRegressor(metric=&#x27;mae&#x27;, objective=&#x27;regression&#x27;,\n",
       "                               random_state=22))])</pre></div></div></div><div class=\"sk-serial\"><div class=\"sk-item\"><div class=\"sk-label-container\"><div class=\"sk-label sk-toggleable\"><input class=\"sk-toggleable__control sk-hidden--visually\" id=\"152d8753-db56-4bad-bf00-83f9fc940b9a\" type=\"checkbox\" ><label for=\"152d8753-db56-4bad-bf00-83f9fc940b9a\" class=\"sk-toggleable__label sk-toggleable__label-arrow\">preprocessor: Pipeline</label><div class=\"sk-toggleable__content\"><pre>Pipeline(steps=[(&#x27;column&#x27;,\n",
       "                 ColumnTransformer(transformers=[(&#x27;num&#x27;,\n",
       "                                                  Pipeline(steps=[(&#x27;outlier&#x27;,\n",
       "                                                                   FunctionTransformer(func=&lt;function remove_outlier at 0x7fd380a604c0&gt;,\n",
       "                                                                                       kw_args={&#x27;q&#x27;: 0.04})),\n",
       "                                                                  (&#x27;scaler&#x27;,\n",
       "                                                                   MaxAbsScaler())]),\n",
       "                                                  [&#x27;수고(m)&#x27;, &#x27;수관폭1(min)&#x27;,\n",
       "                                                   &#x27;수관폭2(max)&#x27;, &#x27;수관폭평균&#x27;,\n",
       "                                                   &#x27;2022-09-01 새순&#x27;,\n",
       "                                                   &#x27;2022-09-02 새순&#x27;,\n",
       "                                                   &#x27;2022-09-03 새순&#x27;,\n",
       "                                                   &#x27;2022-09-04 새순&#x27;,\n",
       "                                                   &#x27;2022-09-05 새순&#x27;,\n",
       "                                                   &#x27;2022-09-06 새순&#x27;,\n",
       "                                                   &#x27;2022-09-07 새순&#x27;,\n",
       "                                                   &#x27;2022-09-08 새순&#x27;,\n",
       "                                                   &#x27;2022-09-09 새순&#x27;,\n",
       "                                                   &#x27;2022-09-10 새순&#x27;,\n",
       "                                                   &#x27;2022-09-11 새순&#x27;,\n",
       "                                                   &#x27;2022-09-12 새순&#x27;,\n",
       "                                                   &#x27;2022-09-13 새순&#x27;,\n",
       "                                                   &#x27;2022-09-14 새순&#x27;,\n",
       "                                                   &#x27;2022-09-15 새순&#x27;,\n",
       "                                                   &#x27;2022-09-16 새순&#x27;,\n",
       "                                                   &#x27;2022-09-17 새순&#x27;,\n",
       "                                                   &#x27;2022-09-18 새순&#x27;,\n",
       "                                                   &#x27;2022-09-19 새순&#x27;,\n",
       "                                                   &#x27;2022-09-20 새순&#x27;,\n",
       "                                                   &#x27;2022-09-21 새순&#x27;,\n",
       "                                                   &#x27;2022-09-22 새순&#x27;,\n",
       "                                                   &#x27;2022-09-23 새순&#x27;,\n",
       "                                                   &#x27;2022-09-24 새순&#x27;,\n",
       "                                                   &#x27;2022-09-25 새순&#x27;,\n",
       "                                                   &#x27;2022-09-26 새순&#x27;, ...])]))])</pre></div></div></div><div class=\"sk-serial\"><div class=\"sk-item sk-dashed-wrapped\"><div class=\"sk-label-container\"><div class=\"sk-label sk-toggleable\"><input class=\"sk-toggleable__control sk-hidden--visually\" id=\"07603370-742e-47d0-8c6e-90e4e160b522\" type=\"checkbox\" ><label for=\"07603370-742e-47d0-8c6e-90e4e160b522\" class=\"sk-toggleable__label sk-toggleable__label-arrow\">column: ColumnTransformer</label><div class=\"sk-toggleable__content\"><pre>ColumnTransformer(transformers=[(&#x27;num&#x27;,\n",
       "                                 Pipeline(steps=[(&#x27;outlier&#x27;,\n",
       "                                                  FunctionTransformer(func=&lt;function remove_outlier at 0x7fd380a604c0&gt;,\n",
       "                                                                      kw_args={&#x27;q&#x27;: 0.04})),\n",
       "                                                 (&#x27;scaler&#x27;, MaxAbsScaler())]),\n",
       "                                 [&#x27;수고(m)&#x27;, &#x27;수관폭1(min)&#x27;, &#x27;수관폭2(max)&#x27;, &#x27;수관폭평균&#x27;,\n",
       "                                  &#x27;2022-09-01 새순&#x27;, &#x27;2022-09-02 새순&#x27;,\n",
       "                                  &#x27;2022-09-03 새순&#x27;, &#x27;2022-09-04 새순&#x27;,\n",
       "                                  &#x27;2022-09-05 새순&#x27;, &#x27;2022-09-06 새순&#x27;,\n",
       "                                  &#x27;2022-09-07 새순&#x27;, &#x27;2022-09-08 새순&#x27;,\n",
       "                                  &#x27;2022-09-09 새순&#x27;, &#x27;2022-09-10 새순&#x27;,\n",
       "                                  &#x27;2022-09-11 새순&#x27;, &#x27;2022-09-12 새순&#x27;,\n",
       "                                  &#x27;2022-09-13 새순&#x27;, &#x27;2022-09-14 새순&#x27;,\n",
       "                                  &#x27;2022-09-15 새순&#x27;, &#x27;2022-09-16 새순&#x27;,\n",
       "                                  &#x27;2022-09-17 새순&#x27;, &#x27;2022-09-18 새순&#x27;,\n",
       "                                  &#x27;2022-09-19 새순&#x27;, &#x27;2022-09-20 새순&#x27;,\n",
       "                                  &#x27;2022-09-21 새순&#x27;, &#x27;2022-09-22 새순&#x27;,\n",
       "                                  &#x27;2022-09-23 새순&#x27;, &#x27;2022-09-24 새순&#x27;,\n",
       "                                  &#x27;2022-09-25 새순&#x27;, &#x27;2022-09-26 새순&#x27;, ...])])</pre></div></div></div><div class=\"sk-parallel\"><div class=\"sk-parallel-item\"><div class=\"sk-item\"><div class=\"sk-label-container\"><div class=\"sk-label sk-toggleable\"><input class=\"sk-toggleable__control sk-hidden--visually\" id=\"c6968312-f20c-46ba-9db8-27857784085c\" type=\"checkbox\" ><label for=\"c6968312-f20c-46ba-9db8-27857784085c\" class=\"sk-toggleable__label sk-toggleable__label-arrow\">num</label><div class=\"sk-toggleable__content\"><pre>[&#x27;수고(m)&#x27;, &#x27;수관폭1(min)&#x27;, &#x27;수관폭2(max)&#x27;, &#x27;수관폭평균&#x27;, &#x27;2022-09-01 새순&#x27;, &#x27;2022-09-02 새순&#x27;, &#x27;2022-09-03 새순&#x27;, &#x27;2022-09-04 새순&#x27;, &#x27;2022-09-05 새순&#x27;, &#x27;2022-09-06 새순&#x27;, &#x27;2022-09-07 새순&#x27;, &#x27;2022-09-08 새순&#x27;, &#x27;2022-09-09 새순&#x27;, &#x27;2022-09-10 새순&#x27;, &#x27;2022-09-11 새순&#x27;, &#x27;2022-09-12 새순&#x27;, &#x27;2022-09-13 새순&#x27;, &#x27;2022-09-14 새순&#x27;, &#x27;2022-09-15 새순&#x27;, &#x27;2022-09-16 새순&#x27;, &#x27;2022-09-17 새순&#x27;, &#x27;2022-09-18 새순&#x27;, &#x27;2022-09-19 새순&#x27;, &#x27;2022-09-20 새순&#x27;, &#x27;2022-09-21 새순&#x27;, &#x27;2022-09-22 새순&#x27;, &#x27;2022-09-23 새순&#x27;, &#x27;2022-09-24 새순&#x27;, &#x27;2022-09-25 새순&#x27;, &#x27;2022-09-26 새순&#x27;, &#x27;2022-09-27 새순&#x27;, &#x27;2022-09-28 새순&#x27;, &#x27;2022-09-29 새순&#x27;, &#x27;2022-09-30 새순&#x27;, &#x27;2022-10-01 새순&#x27;, &#x27;2022-10-02 새순&#x27;, &#x27;2022-10-03 새순&#x27;, &#x27;2022-10-04 새순&#x27;, &#x27;2022-10-05 새순&#x27;, &#x27;2022-10-06 새순&#x27;, &#x27;2022-10-07 새순&#x27;, &#x27;2022-10-08 새순&#x27;, &#x27;2022-10-09 새순&#x27;, &#x27;2022-10-10 새순&#x27;, &#x27;2022-10-11 새순&#x27;, &#x27;2022-10-12 새순&#x27;, &#x27;2022-10-13 새순&#x27;, &#x27;2022-10-14 새순&#x27;, &#x27;2022-10-15 새순&#x27;, &#x27;2022-10-16 새순&#x27;, &#x27;2022-10-17 새순&#x27;, &#x27;2022-10-18 새순&#x27;, &#x27;2022-10-19 새순&#x27;, &#x27;2022-10-20 새순&#x27;, &#x27;2022-10-21 새순&#x27;, &#x27;2022-10-22 새순&#x27;, &#x27;2022-10-23 새순&#x27;, &#x27;2022-10-24 새순&#x27;, &#x27;2022-10-25 새순&#x27;, &#x27;2022-10-26 새순&#x27;, &#x27;2022-10-27 새순&#x27;, &#x27;2022-10-28 새순&#x27;, &#x27;2022-10-29 새순&#x27;, &#x27;2022-10-30 새순&#x27;, &#x27;2022-10-31 새순&#x27;, &#x27;2022-11-01 새순&#x27;, &#x27;2022-11-02 새순&#x27;, &#x27;2022-11-03 새순&#x27;, &#x27;2022-11-04 새순&#x27;, &#x27;2022-11-05 새순&#x27;, &#x27;2022-11-06 새순&#x27;, &#x27;2022-11-07 새순&#x27;, &#x27;2022-11-08 새순&#x27;, &#x27;2022-11-09 새순&#x27;, &#x27;2022-11-10 새순&#x27;, &#x27;2022-11-11 새순&#x27;, &#x27;2022-11-12 새순&#x27;, &#x27;2022-11-13 새순&#x27;, &#x27;2022-11-14 새순&#x27;, &#x27;2022-11-15 새순&#x27;, &#x27;2022-11-16 새순&#x27;, &#x27;2022-11-17 새순&#x27;, &#x27;2022-11-18 새순&#x27;, &#x27;2022-11-19 새순&#x27;, &#x27;2022-11-20 새순&#x27;, &#x27;2022-11-21 새순&#x27;, &#x27;2022-11-22 새순&#x27;, &#x27;2022-11-23 새순&#x27;, &#x27;2022-11-24 새순&#x27;, &#x27;2022-11-25 새순&#x27;, &#x27;2022-11-26 새순&#x27;, &#x27;2022-11-27 새순&#x27;, &#x27;2022-11-28 새순&#x27;, &#x27;2022-09-01 엽록소&#x27;, &#x27;2022-09-02 엽록소&#x27;, &#x27;2022-09-03 엽록소&#x27;, &#x27;2022-09-04 엽록소&#x27;, &#x27;2022-09-05 엽록소&#x27;, &#x27;2022-09-06 엽록소&#x27;, &#x27;2022-09-07 엽록소&#x27;, &#x27;2022-09-08 엽록소&#x27;, &#x27;2022-09-09 엽록소&#x27;, &#x27;2022-09-10 엽록소&#x27;, &#x27;2022-09-11 엽록소&#x27;, &#x27;2022-09-12 엽록소&#x27;, &#x27;2022-09-13 엽록소&#x27;, &#x27;2022-09-14 엽록소&#x27;, &#x27;2022-09-15 엽록소&#x27;, &#x27;2022-09-16 엽록소&#x27;, &#x27;2022-09-17 엽록소&#x27;, &#x27;2022-09-18 엽록소&#x27;, &#x27;2022-09-19 엽록소&#x27;, &#x27;2022-09-20 엽록소&#x27;, &#x27;2022-09-21 엽록소&#x27;, &#x27;2022-09-22 엽록소&#x27;, &#x27;2022-09-23 엽록소&#x27;, &#x27;2022-09-24 엽록소&#x27;, &#x27;2022-09-25 엽록소&#x27;, &#x27;2022-09-26 엽록소&#x27;, &#x27;2022-09-27 엽록소&#x27;, &#x27;2022-09-28 엽록소&#x27;, &#x27;2022-09-29 엽록소&#x27;, &#x27;2022-09-30 엽록소&#x27;, &#x27;2022-10-01 엽록소&#x27;, &#x27;2022-10-02 엽록소&#x27;, &#x27;2022-10-03 엽록소&#x27;, &#x27;2022-10-04 엽록소&#x27;, &#x27;2022-10-05 엽록소&#x27;, &#x27;2022-10-06 엽록소&#x27;, &#x27;2022-10-07 엽록소&#x27;, &#x27;2022-10-08 엽록소&#x27;, &#x27;2022-10-09 엽록소&#x27;, &#x27;2022-10-10 엽록소&#x27;, &#x27;2022-10-11 엽록소&#x27;, &#x27;2022-10-12 엽록소&#x27;, &#x27;2022-10-13 엽록소&#x27;, &#x27;2022-10-14 엽록소&#x27;, &#x27;2022-10-15 엽록소&#x27;, &#x27;2022-10-16 엽록소&#x27;, &#x27;2022-10-17 엽록소&#x27;, &#x27;2022-10-18 엽록소&#x27;, &#x27;2022-10-19 엽록소&#x27;, &#x27;2022-10-20 엽록소&#x27;, &#x27;2022-10-21 엽록소&#x27;, &#x27;2022-10-22 엽록소&#x27;, &#x27;2022-10-23 엽록소&#x27;, &#x27;2022-10-24 엽록소&#x27;, &#x27;2022-10-25 엽록소&#x27;, &#x27;2022-10-26 엽록소&#x27;, &#x27;2022-10-27 엽록소&#x27;, &#x27;2022-10-28 엽록소&#x27;, &#x27;2022-10-29 엽록소&#x27;, &#x27;2022-10-30 엽록소&#x27;, &#x27;2022-10-31 엽록소&#x27;, &#x27;2022-11-01 엽록소&#x27;, &#x27;2022-11-02 엽록소&#x27;, &#x27;2022-11-03 엽록소&#x27;, &#x27;2022-11-04 엽록소&#x27;, &#x27;2022-11-05 엽록소&#x27;, &#x27;2022-11-06 엽록소&#x27;, &#x27;2022-11-07 엽록소&#x27;, &#x27;2022-11-08 엽록소&#x27;, &#x27;2022-11-09 엽록소&#x27;, &#x27;2022-11-10 엽록소&#x27;, &#x27;2022-11-11 엽록소&#x27;, &#x27;2022-11-12 엽록소&#x27;, &#x27;2022-11-13 엽록소&#x27;, &#x27;2022-11-14 엽록소&#x27;, &#x27;2022-11-15 엽록소&#x27;, &#x27;2022-11-16 엽록소&#x27;, &#x27;2022-11-17 엽록소&#x27;, &#x27;2022-11-18 엽록소&#x27;, &#x27;2022-11-19 엽록소&#x27;, &#x27;2022-11-20 엽록소&#x27;, &#x27;2022-11-21 엽록소&#x27;, &#x27;2022-11-22 엽록소&#x27;, &#x27;2022-11-23 엽록소&#x27;, &#x27;2022-11-24 엽록소&#x27;, &#x27;2022-11-25 엽록소&#x27;, &#x27;2022-11-26 엽록소&#x27;, &#x27;2022-11-27 엽록소&#x27;, &#x27;2022-11-28 엽록소&#x27;, &#x27;9월_새순_mean&#x27;, &#x27;9월_새순_std&#x27;, &#x27;9월_새순_var&#x27;, &#x27;10월_새순_mean&#x27;, &#x27;10월_새순_std&#x27;, &#x27;10월_새순_var&#x27;, &#x27;11월_새순_mean&#x27;, &#x27;11월_새순_std&#x27;, &#x27;11월_새순_var&#x27;, &#x27;9월_엽록소_mean&#x27;, &#x27;9월_엽록소_std&#x27;, &#x27;9월_엽록소_var&#x27;, &#x27;10월_엽록소_mean&#x27;, &#x27;10월_엽록소_std&#x27;, &#x27;10월_엽록소_var&#x27;, &#x27;11월_엽록소_mean&#x27;, &#x27;11월_엽록소_std&#x27;, &#x27;11월_엽록소_var&#x27;, &#x27;새순max&#x27;, &#x27;새순min&#x27;, &#x27;엽록소max&#x27;, &#x27;엽록소min&#x27;, &#x27;새순차이&#x27;, &#x27;엽록소차이&#x27;, &#x27;수고X수관폭&#x27;, &#x27;수관폭차이&#x27;, &#x27;새순+엽록소_0&#x27;, &#x27;새순+엽록소_1&#x27;, &#x27;새순+엽록소_2&#x27;, &#x27;새순+엽록소_3&#x27;, &#x27;새순+엽록소_4&#x27;, &#x27;새순+엽록소_5&#x27;, &#x27;새순+엽록소_6&#x27;, &#x27;새순+엽록소_7&#x27;, &#x27;새순+엽록소_8&#x27;, &#x27;새순+엽록소_9&#x27;, &#x27;새순+엽록소_10&#x27;, &#x27;새순+엽록소_11&#x27;, &#x27;새순+엽록소_12&#x27;, &#x27;새순+엽록소_13&#x27;, &#x27;새순+엽록소_14&#x27;, &#x27;새순+엽록소_15&#x27;, &#x27;새순+엽록소_16&#x27;, &#x27;새순+엽록소_17&#x27;, &#x27;새순+엽록소_18&#x27;, &#x27;새순+엽록소_19&#x27;, &#x27;새순+엽록소_20&#x27;, &#x27;새순+엽록소_21&#x27;, &#x27;새순+엽록소_22&#x27;, &#x27;새순+엽록소_23&#x27;, &#x27;새순+엽록소_24&#x27;, &#x27;새순+엽록소_25&#x27;, &#x27;새순+엽록소_26&#x27;, &#x27;새순+엽록소_27&#x27;, &#x27;새순+엽록소_28&#x27;, &#x27;새순+엽록소_29&#x27;, &#x27;새순+엽록소_30&#x27;, &#x27;새순+엽록소_31&#x27;, &#x27;새순+엽록소_32&#x27;, &#x27;새순+엽록소_33&#x27;, &#x27;새순+엽록소_34&#x27;, &#x27;새순+엽록소_35&#x27;, &#x27;새순+엽록소_36&#x27;, &#x27;새순+엽록소_37&#x27;, &#x27;새순+엽록소_38&#x27;, &#x27;새순+엽록소_39&#x27;, &#x27;새순+엽록소_40&#x27;, &#x27;새순+엽록소_41&#x27;, &#x27;새순+엽록소_42&#x27;, &#x27;새순+엽록소_43&#x27;, &#x27;새순+엽록소_44&#x27;, &#x27;새순+엽록소_45&#x27;, &#x27;새순+엽록소_46&#x27;, &#x27;새순+엽록소_47&#x27;, &#x27;새순+엽록소_48&#x27;, &#x27;새순+엽록소_49&#x27;, &#x27;새순+엽록소_50&#x27;, &#x27;새순+엽록소_51&#x27;, &#x27;새순+엽록소_52&#x27;, &#x27;새순+엽록소_53&#x27;, &#x27;새순+엽록소_54&#x27;, &#x27;새순+엽록소_55&#x27;, &#x27;새순+엽록소_56&#x27;, &#x27;새순+엽록소_57&#x27;, &#x27;새순+엽록소_58&#x27;, &#x27;새순+엽록소_59&#x27;, &#x27;새순+엽록소_60&#x27;, &#x27;새순+엽록소_61&#x27;, &#x27;새순+엽록소_62&#x27;, &#x27;새순+엽록소_63&#x27;, &#x27;새순+엽록소_64&#x27;, &#x27;새순+엽록소_65&#x27;, &#x27;새순+엽록소_66&#x27;, &#x27;새순+엽록소_67&#x27;, &#x27;새순+엽록소_68&#x27;, &#x27;새순+엽록소_69&#x27;, &#x27;새순+엽록소_70&#x27;, &#x27;새순+엽록소_71&#x27;, &#x27;새순+엽록소_72&#x27;, &#x27;새순+엽록소_73&#x27;, &#x27;새순+엽록소_74&#x27;, &#x27;새순+엽록소_75&#x27;, &#x27;새순+엽록소_76&#x27;, &#x27;새순+엽록소_77&#x27;, &#x27;새순+엽록소_78&#x27;, &#x27;새순+엽록소_79&#x27;, &#x27;새순+엽록소_80&#x27;, &#x27;새순+엽록소_81&#x27;, &#x27;새순+엽록소_82&#x27;, &#x27;새순+엽록소_83&#x27;, &#x27;새순+엽록소_84&#x27;, &#x27;새순+엽록소_85&#x27;, &#x27;새순+엽록소_86&#x27;, &#x27;새순+엽록소_87&#x27;, &#x27;새순+엽록소_88&#x27;, &#x27;새순-엽록소_0&#x27;, &#x27;새순-엽록소_1&#x27;, &#x27;새순-엽록소_2&#x27;, &#x27;새순-엽록소_3&#x27;, &#x27;새순-엽록소_4&#x27;, &#x27;새순-엽록소_5&#x27;, &#x27;새순-엽록소_6&#x27;, &#x27;새순-엽록소_7&#x27;, &#x27;새순-엽록소_8&#x27;, &#x27;새순-엽록소_9&#x27;, &#x27;새순-엽록소_10&#x27;, &#x27;새순-엽록소_11&#x27;, &#x27;새순-엽록소_12&#x27;, &#x27;새순-엽록소_13&#x27;, &#x27;새순-엽록소_14&#x27;, &#x27;새순-엽록소_15&#x27;, &#x27;새순-엽록소_16&#x27;, &#x27;새순-엽록소_17&#x27;, &#x27;새순-엽록소_18&#x27;, &#x27;새순-엽록소_19&#x27;, &#x27;새순-엽록소_20&#x27;, &#x27;새순-엽록소_21&#x27;, &#x27;새순-엽록소_22&#x27;, &#x27;새순-엽록소_23&#x27;, &#x27;새순-엽록소_24&#x27;, &#x27;새순-엽록소_25&#x27;, &#x27;새순-엽록소_26&#x27;, &#x27;새순-엽록소_27&#x27;, &#x27;새순-엽록소_28&#x27;, &#x27;새순-엽록소_29&#x27;, &#x27;새순-엽록소_30&#x27;, &#x27;새순-엽록소_31&#x27;, &#x27;새순-엽록소_32&#x27;, &#x27;새순-엽록소_33&#x27;, &#x27;새순-엽록소_34&#x27;, &#x27;새순-엽록소_35&#x27;, &#x27;새순-엽록소_36&#x27;, &#x27;새순-엽록소_37&#x27;, &#x27;새순-엽록소_38&#x27;, &#x27;새순-엽록소_39&#x27;, &#x27;새순-엽록소_40&#x27;, &#x27;새순-엽록소_41&#x27;, &#x27;새순-엽록소_42&#x27;, &#x27;새순-엽록소_43&#x27;, &#x27;새순-엽록소_44&#x27;, &#x27;새순-엽록소_45&#x27;, &#x27;새순-엽록소_46&#x27;, &#x27;새순-엽록소_47&#x27;, &#x27;새순-엽록소_48&#x27;, &#x27;새순-엽록소_49&#x27;, &#x27;새순-엽록소_50&#x27;, &#x27;새순-엽록소_51&#x27;, &#x27;새순-엽록소_52&#x27;, &#x27;새순-엽록소_53&#x27;, &#x27;새순-엽록소_54&#x27;, &#x27;새순-엽록소_55&#x27;, &#x27;새순-엽록소_56&#x27;, &#x27;새순-엽록소_57&#x27;, &#x27;새순-엽록소_58&#x27;, &#x27;새순-엽록소_59&#x27;, &#x27;새순-엽록소_60&#x27;, &#x27;새순-엽록소_61&#x27;, &#x27;새순-엽록소_62&#x27;, &#x27;새순-엽록소_63&#x27;, &#x27;새순-엽록소_64&#x27;, &#x27;새순-엽록소_65&#x27;, &#x27;새순-엽록소_66&#x27;, &#x27;새순-엽록소_67&#x27;, &#x27;새순-엽록소_68&#x27;, &#x27;새순-엽록소_69&#x27;, &#x27;새순-엽록소_70&#x27;, &#x27;새순-엽록소_71&#x27;, &#x27;새순-엽록소_72&#x27;, &#x27;새순-엽록소_73&#x27;, &#x27;새순-엽록소_74&#x27;, &#x27;새순-엽록소_75&#x27;, &#x27;새순-엽록소_76&#x27;, &#x27;새순-엽록소_77&#x27;, &#x27;새순-엽록소_78&#x27;, &#x27;새순-엽록소_79&#x27;, &#x27;새순-엽록소_80&#x27;, &#x27;새순-엽록소_81&#x27;, &#x27;새순-엽록소_82&#x27;, &#x27;새순-엽록소_83&#x27;, &#x27;새순-엽록소_84&#x27;, &#x27;새순-엽록소_85&#x27;, &#x27;새순-엽록소_86&#x27;, &#x27;새순-엽록소_87&#x27;, &#x27;새순-엽록소_88&#x27;, &#x27;새순*엽록소_0&#x27;, &#x27;새순*엽록소_1&#x27;, &#x27;새순*엽록소_2&#x27;, &#x27;새순*엽록소_3&#x27;, &#x27;새순*엽록소_4&#x27;, &#x27;새순*엽록소_5&#x27;, &#x27;새순*엽록소_6&#x27;, &#x27;새순*엽록소_7&#x27;, &#x27;새순*엽록소_8&#x27;, &#x27;새순*엽록소_9&#x27;, &#x27;새순*엽록소_10&#x27;, &#x27;새순*엽록소_11&#x27;, &#x27;새순*엽록소_12&#x27;, &#x27;새순*엽록소_13&#x27;, &#x27;새순*엽록소_14&#x27;, &#x27;새순*엽록소_15&#x27;, &#x27;새순*엽록소_16&#x27;, &#x27;새순*엽록소_17&#x27;, &#x27;새순*엽록소_18&#x27;, &#x27;새순*엽록소_19&#x27;, &#x27;새순*엽록소_20&#x27;, &#x27;새순*엽록소_21&#x27;, &#x27;새순*엽록소_22&#x27;, &#x27;새순*엽록소_23&#x27;, &#x27;새순*엽록소_24&#x27;, &#x27;새순*엽록소_25&#x27;, &#x27;새순*엽록소_26&#x27;, &#x27;새순*엽록소_27&#x27;, &#x27;새순*엽록소_28&#x27;, &#x27;새순*엽록소_29&#x27;, &#x27;새순*엽록소_30&#x27;, &#x27;새순*엽록소_31&#x27;, &#x27;새순*엽록소_32&#x27;, &#x27;새순*엽록소_33&#x27;, &#x27;새순*엽록소_34&#x27;, &#x27;새순*엽록소_35&#x27;, &#x27;새순*엽록소_36&#x27;, &#x27;새순*엽록소_37&#x27;, &#x27;새순*엽록소_38&#x27;, &#x27;새순*엽록소_39&#x27;, &#x27;새순*엽록소_40&#x27;, &#x27;새순*엽록소_41&#x27;, &#x27;새순*엽록소_42&#x27;, &#x27;새순*엽록소_43&#x27;, &#x27;새순*엽록소_44&#x27;, &#x27;새순*엽록소_45&#x27;, &#x27;새순*엽록소_46&#x27;, &#x27;새순*엽록소_47&#x27;, &#x27;새순*엽록소_48&#x27;, &#x27;새순*엽록소_49&#x27;, &#x27;새순*엽록소_50&#x27;, &#x27;새순*엽록소_51&#x27;, &#x27;새순*엽록소_52&#x27;, &#x27;새순*엽록소_53&#x27;, &#x27;새순*엽록소_54&#x27;, &#x27;새순*엽록소_55&#x27;, &#x27;새순*엽록소_56&#x27;, &#x27;새순*엽록소_57&#x27;, &#x27;새순*엽록소_58&#x27;, &#x27;새순*엽록소_59&#x27;, &#x27;새순*엽록소_60&#x27;, &#x27;새순*엽록소_61&#x27;, &#x27;새순*엽록소_62&#x27;, &#x27;새순*엽록소_63&#x27;, &#x27;새순*엽록소_64&#x27;, &#x27;새순*엽록소_65&#x27;, &#x27;새순*엽록소_66&#x27;, &#x27;새순*엽록소_67&#x27;, &#x27;새순*엽록소_68&#x27;, &#x27;새순*엽록소_69&#x27;, &#x27;새순*엽록소_70&#x27;, &#x27;새순*엽록소_71&#x27;, &#x27;새순*엽록소_72&#x27;, &#x27;새순*엽록소_73&#x27;, &#x27;새순*엽록소_74&#x27;, &#x27;새순*엽록소_75&#x27;, &#x27;새순*엽록소_76&#x27;, &#x27;새순*엽록소_77&#x27;, &#x27;새순*엽록소_78&#x27;, &#x27;새순*엽록소_79&#x27;, &#x27;새순*엽록소_80&#x27;, &#x27;새순*엽록소_81&#x27;, &#x27;새순*엽록소_82&#x27;, &#x27;새순*엽록소_83&#x27;, &#x27;새순*엽록소_84&#x27;, &#x27;새순*엽록소_85&#x27;, &#x27;새순*엽록소_86&#x27;, &#x27;새순*엽록소_87&#x27;, &#x27;새순*엽록소_88&#x27;, &#x27;새순/엽록소_0&#x27;, &#x27;새순/엽록소_1&#x27;, &#x27;새순/엽록소_2&#x27;, &#x27;새순/엽록소_3&#x27;, &#x27;새순/엽록소_4&#x27;, &#x27;새순/엽록소_5&#x27;, &#x27;새순/엽록소_6&#x27;, &#x27;새순/엽록소_7&#x27;, &#x27;새순/엽록소_8&#x27;, &#x27;새순/엽록소_9&#x27;, &#x27;새순/엽록소_10&#x27;, &#x27;새순/엽록소_11&#x27;, &#x27;새순/엽록소_12&#x27;, &#x27;새순/엽록소_13&#x27;, &#x27;새순/엽록소_14&#x27;, &#x27;새순/엽록소_15&#x27;, &#x27;새순/엽록소_16&#x27;, &#x27;새순/엽록소_17&#x27;, &#x27;새순/엽록소_18&#x27;, &#x27;새순/엽록소_19&#x27;, &#x27;새순/엽록소_20&#x27;, &#x27;새순/엽록소_21&#x27;, &#x27;새순/엽록소_22&#x27;, &#x27;새순/엽록소_23&#x27;, &#x27;새순/엽록소_24&#x27;, &#x27;새순/엽록소_25&#x27;, &#x27;새순/엽록소_26&#x27;, &#x27;새순/엽록소_27&#x27;, &#x27;새순/엽록소_28&#x27;, &#x27;새순/엽록소_29&#x27;, &#x27;새순/엽록소_30&#x27;, &#x27;새순/엽록소_31&#x27;, &#x27;새순/엽록소_32&#x27;, &#x27;새순/엽록소_33&#x27;, &#x27;새순/엽록소_34&#x27;, &#x27;새순/엽록소_35&#x27;, &#x27;새순/엽록소_36&#x27;, &#x27;새순/엽록소_37&#x27;, &#x27;새순/엽록소_38&#x27;, &#x27;새순/엽록소_39&#x27;, &#x27;새순/엽록소_40&#x27;, &#x27;새순/엽록소_41&#x27;, &#x27;새순/엽록소_42&#x27;, &#x27;새순/엽록소_43&#x27;, &#x27;새순/엽록소_44&#x27;, &#x27;새순/엽록소_45&#x27;, &#x27;새순/엽록소_46&#x27;, &#x27;새순/엽록소_47&#x27;, &#x27;새순/엽록소_48&#x27;, &#x27;새순/엽록소_49&#x27;, &#x27;새순/엽록소_50&#x27;, &#x27;새순/엽록소_51&#x27;, &#x27;새순/엽록소_52&#x27;, &#x27;새순/엽록소_53&#x27;, &#x27;새순/엽록소_54&#x27;, &#x27;새순/엽록소_55&#x27;, &#x27;새순/엽록소_56&#x27;, &#x27;새순/엽록소_57&#x27;, &#x27;새순/엽록소_58&#x27;, &#x27;새순/엽록소_59&#x27;, &#x27;새순/엽록소_60&#x27;, &#x27;새순/엽록소_61&#x27;, &#x27;새순/엽록소_62&#x27;, &#x27;새순/엽록소_63&#x27;, &#x27;새순/엽록소_64&#x27;, &#x27;새순/엽록소_65&#x27;, &#x27;새순/엽록소_66&#x27;, &#x27;새순/엽록소_67&#x27;, &#x27;새순/엽록소_68&#x27;, &#x27;새순/엽록소_69&#x27;, &#x27;새순/엽록소_70&#x27;, &#x27;새순/엽록소_71&#x27;, &#x27;새순/엽록소_72&#x27;, &#x27;새순/엽록소_73&#x27;, &#x27;새순/엽록소_74&#x27;, &#x27;새순/엽록소_75&#x27;, &#x27;새순/엽록소_76&#x27;, &#x27;새순/엽록소_77&#x27;, &#x27;새순/엽록소_78&#x27;, &#x27;새순/엽록소_79&#x27;, &#x27;새순/엽록소_80&#x27;, &#x27;새순/엽록소_81&#x27;, &#x27;새순/엽록소_82&#x27;, &#x27;새순/엽록소_83&#x27;, &#x27;새순/엽록소_84&#x27;, &#x27;새순/엽록소_85&#x27;, &#x27;새순/엽록소_86&#x27;, &#x27;새순/엽록소_87&#x27;, &#x27;새순/엽록소_88&#x27;]</pre></div></div></div><div class=\"sk-serial\"><div class=\"sk-item\"><div class=\"sk-serial\"><div class=\"sk-item\"><div class=\"sk-estimator sk-toggleable\"><input class=\"sk-toggleable__control sk-hidden--visually\" id=\"3a6c8120-f781-4de2-bb26-353831a4a929\" type=\"checkbox\" ><label for=\"3a6c8120-f781-4de2-bb26-353831a4a929\" class=\"sk-toggleable__label sk-toggleable__label-arrow\">FunctionTransformer</label><div class=\"sk-toggleable__content\"><pre>FunctionTransformer(func=&lt;function remove_outlier at 0x7fd380a604c0&gt;,\n",
       "                    kw_args={&#x27;q&#x27;: 0.04})</pre></div></div></div><div class=\"sk-item\"><div class=\"sk-estimator sk-toggleable\"><input class=\"sk-toggleable__control sk-hidden--visually\" id=\"354cb8af-3ab9-4606-ad76-5549db32cdec\" type=\"checkbox\" ><label for=\"354cb8af-3ab9-4606-ad76-5549db32cdec\" class=\"sk-toggleable__label sk-toggleable__label-arrow\">MaxAbsScaler</label><div class=\"sk-toggleable__content\"><pre>MaxAbsScaler()</pre></div></div></div></div></div></div></div></div></div></div></div></div><div class=\"sk-item\"><div class=\"sk-estimator sk-toggleable\"><input class=\"sk-toggleable__control sk-hidden--visually\" id=\"2833fd78-d155-4467-b03d-6af1a2f20f13\" type=\"checkbox\" ><label for=\"2833fd78-d155-4467-b03d-6af1a2f20f13\" class=\"sk-toggleable__label sk-toggleable__label-arrow\">LGBMRegressor</label><div class=\"sk-toggleable__content\"><pre>LGBMRegressor(metric=&#x27;mae&#x27;, objective=&#x27;regression&#x27;, random_state=22)</pre></div></div></div></div></div></div></div>"
      ],
      "text/plain": [
       "Pipeline(steps=[('preprocessor',\n",
       "                 Pipeline(steps=[('column',\n",
       "                                  ColumnTransformer(transformers=[('num',\n",
       "                                                                   Pipeline(steps=[('outlier',\n",
       "                                                                                    FunctionTransformer(func=<function remove_outlier at 0x7fd380a604c0>,\n",
       "                                                                                                        kw_args={'q': 0.04})),\n",
       "                                                                                   ('scaler',\n",
       "                                                                                    MaxAbsScaler())]),\n",
       "                                                                   ['수고(m)',\n",
       "                                                                    '수관폭1(min)',\n",
       "                                                                    '수관폭2(max)',\n",
       "                                                                    '수관폭평균',\n",
       "                                                                    '2022-09-01 '\n",
       "                                                                    '새순',\n",
       "                                                                    '2022-09-02 '\n",
       "                                                                    '새순',\n",
       "                                                                    '2022-09-03 '\n",
       "                                                                    '새순',\n",
       "                                                                    '2022-09-04 '\n",
       "                                                                    '새순',\n",
       "                                                                    '2...\n",
       "                                                                    '2022-09-12 '\n",
       "                                                                    '새순',\n",
       "                                                                    '2022-09-13 '\n",
       "                                                                    '새순',\n",
       "                                                                    '2022-09-14 '\n",
       "                                                                    '새순',\n",
       "                                                                    '2022-09-15 '\n",
       "                                                                    '새순',\n",
       "                                                                    '2022-09-16 '\n",
       "                                                                    '새순',\n",
       "                                                                    '2022-09-17 '\n",
       "                                                                    '새순',\n",
       "                                                                    '2022-09-18 '\n",
       "                                                                    '새순',\n",
       "                                                                    '2022-09-19 '\n",
       "                                                                    '새순',\n",
       "                                                                    '2022-09-20 '\n",
       "                                                                    '새순',\n",
       "                                                                    '2022-09-21 '\n",
       "                                                                    '새순',\n",
       "                                                                    '2022-09-22 '\n",
       "                                                                    '새순',\n",
       "                                                                    '2022-09-23 '\n",
       "                                                                    '새순',\n",
       "                                                                    '2022-09-24 '\n",
       "                                                                    '새순',\n",
       "                                                                    '2022-09-25 '\n",
       "                                                                    '새순',\n",
       "                                                                    '2022-09-26 '\n",
       "                                                                    '새순', ...])]))])),\n",
       "                ('classifier',\n",
       "                 LGBMRegressor(metric='mae', objective='regression',\n",
       "                               random_state=22))])"
      ]
     },
     "execution_count": 8,
     "metadata": {},
     "output_type": "execute_result"
    }
   ],
   "source": [
    "def remove_outlier(X, q=0.04):  \n",
    "    df = pd.DataFrame(X)\n",
    "    return df.apply(lambda x: x.clip(x.quantile(q), x.quantile(1-q)), axis=0).values\n",
    "\n",
    "numeric_transformer = Pipeline(\n",
    "    steps=[\n",
    "        (\"outlier\", FunctionTransformer(remove_outlier, kw_args={'q':0.04})), \n",
    "        (\"scaler\", MaxAbsScaler()),\n",
    "    ]\n",
    ")\n",
    " \n",
    "column_transformer = ColumnTransformer(\n",
    "    transformers=[\n",
    "        (\"num\", numeric_transformer, numeric_features),\n",
    "   ]\n",
    ")\n",
    "\n",
    "preprocessor = Pipeline(\n",
    "    steps=[\n",
    "        (\"column\", column_transformer), \n",
    "    ]\n",
    ")\n",
    "\n",
    "model = Pipeline(\n",
    "    steps=[\n",
    "        (\"preprocessor\", preprocessor), \n",
    "        (\"classifier\", LGBMRegressor(objective=\"regression\", metric=\"mae\", random_state=SEED)),\n",
    "    ]\n",
    ")\n",
    "\n",
    "set_config(display=\"diagram\")  # To view the text pipeline, change to display='text'.\n",
    "model"
   ]
  },
  {
   "cell_type": "markdown",
   "metadata": {
    "id": "ko1XosIANTYq"
   },
   "source": [
    "#### LGBM Baseline 성능 확인"
   ]
  },
  {
   "cell_type": "code",
   "execution_count": null,
   "metadata": {
    "collapsed": true,
    "id": "9UvBDXOnNTYq"
   },
   "outputs": [],
   "source": [
    "sscv = ShuffleSplit(test_size=.3, n_splits=NFOLDS, random_state=SEED) # Public LB 사이즈와 동일하게 평가데이터 사이즈 설정 \n",
    "scores = cross_val_score(model, X_train, y_train, scoring=NMAE_CV, cv=sscv).mean()\n",
    "\n",
    "print(\"Score : \", scores)"
   ]
  },
  {
   "cell_type": "markdown",
   "metadata": {},
   "source": [
    "# 'q'값과 Scaler 조합별 성능\n",
    "## StandardScaler\n",
    "- 'q' = 0.01 : 0.07911\n",
    "- 'q' = 0.01 : 0.07917\n",
    "- 'q' = 0.01 : 0.07921\n",
    "- 'q' = 0.01 : 0.07926  \n",
    "## MINMAX\n",
    "- 'q' = 0.01 : 0.07910\n",
    "- 'q' = 0.01 : **0.07887** => 채택\n",
    "- 'q' = 0.01 : 0.07917\n",
    "- 'q' = 0.01 : 0.07930  \n",
    "## PowerTransformer\n",
    "- 'q' = 0.01 : 0.07921\n",
    "- 'q' = 0.01 : 0.07893\n",
    "- 'q' = 0.01 : 0.07954\n",
    "- 'q' = 0.01 : 0.07924  \n",
    "## Normalizer\n",
    "- 'q' = 0.01 : 0.1032  \n",
    "## RobustScaler \n",
    "- 'q' = 0.01 : 0.0790\n",
    "- 'q' = 0.01 : 0.07894\n",
    "- 'q' = 0.01 : 0.07929\n",
    "- 'q' = 0.01 : 0.07933  \n",
    "## MaxAbsScaler \n",
    "- 'q' = 0.01 : 0.07960\n",
    "- 'q' = 0.01 : 0.07897\n",
    "- 'q' = 0.01 : 0.07921\n",
    "- 'q' = 0.01 : 0.07921"
   ]
  },
  {
   "cell_type": "markdown",
   "metadata": {},
   "source": [
    "- 'q'가 2일때 모든 스케일러에서 성능이 좋았음\n",
    "- MinMAX Scaler가 가장 성능이좋았음"
   ]
  },
  {
   "cell_type": "markdown",
   "metadata": {
    "id": "DjGm0fNmNTYr"
   },
   "source": [
    "#### LGBM 하이퍼파라미터 최적화\n",
    "- 1단계) 전처리 파라미터 최적값 탐색: OptunaSearchCV를 통해 전처리 관련 최적의 파라미터을 찾음 (LGBM은 No Tuning)"
   ]
  },
  {
   "cell_type": "markdown",
   "metadata": {},
   "source": [
    "### 실패이유\n",
    "- optuna.create_study의 direction이라는 파라미터가 minimize가 안써짐\n",
    "- negative_mean_absolute_error를 사용해도 maximize가 뽑힘 -> 오류해결안됨"
   ]
  },
  {
   "cell_type": "code",
   "execution_count": null,
   "metadata": {
    "id": "NJPkrkWWNTYs"
   },
   "outputs": [],
   "source": [
    "\"\"\"\n",
    "%%time\n",
    "\n",
    "param_distributions = {\n",
    "    \"preprocessor__column__num__outlier__kw_args\": CategoricalDistribution([{'q':0.01},{'q':0.02},{'q':0.03},{'q':0.04}]),\n",
    "    \"preprocessor__column__num__scaler\": CategoricalDistribution([StandardScaler(),MinMaxScaler(), PowerTransformer(), Normalizer(), RobustScaler(), MaxAbsScaler()]),\n",
    "}\n",
    "\n",
    "optuna_search = OptunaSearchCV(model, \n",
    "                               param_distributions, \n",
    "                               cv=sscv, scoring=NMAE_CV, \n",
    "                               n_trials=1,\n",
    "                               study=optuna.create_study(sampler=optuna.samplers.TPESampler(seed=100), direction= 'maximize'))\n",
    "\n",
    "optuna.logging.set_verbosity(optuna.logging.WARNING)\n",
    "optuna_search.fit(X_train, y_train)\n",
    "\"\"\""
   ]
  },
  {
   "cell_type": "code",
   "execution_count": null,
   "metadata": {
    "id": "MIklxlMjqctc"
   },
   "outputs": [],
   "source": [
    "\"\"\"\"\n",
    "print(f\"Best params: {optuna_search.best_params_}\")\n",
    "print(optuna_search.best_score_)\n",
    "\"\"\""
   ]
  },
  {
   "cell_type": "markdown",
   "metadata": {
    "id": "2Ii3apl5NTYs"
   },
   "source": [
    "- 2단계) 전처리 최적화 수행: 최적의 파라미터 값으로 파이프라인 재설정"
   ]
  },
  {
   "cell_type": "code",
   "execution_count": 9,
   "metadata": {
    "executionInfo": {
     "elapsed": 2951,
     "status": "ok",
     "timestamp": 1670965171182,
     "user": {
      "displayName": "강민수",
      "userId": "02270149204876897928"
     },
     "user_tz": -540
    },
    "id": "NSbgGMWANTYt"
   },
   "outputs": [],
   "source": [
    "# 최적값으로 파이프라인 재설정\n",
    "model.set_params(preprocessor__column__num__outlier__kw_args =  {'q': 0.02}, preprocessor__column__num__scaler = MinMaxScaler())\n",
    "\n",
    "# 전처리 파이프라인만 수행\n",
    "X_train = preprocessor.fit_transform(X_train, y_train)\n",
    "X_test = preprocessor.transform(X_test)"
   ]
  },
  {
   "cell_type": "code",
   "execution_count": 10,
   "metadata": {
    "executionInfo": {
     "elapsed": 5,
     "status": "ok",
     "timestamp": 1670965171184,
     "user": {
      "displayName": "강민수",
      "userId": "02270149204876897928"
     },
     "user_tz": -540
    },
    "id": "OP2AnVglCWih"
   },
   "outputs": [],
   "source": [
    "X_train = pd.DataFrame(X_train)\n",
    "X_test = pd.DataFrame(X_test)"
   ]
  },
  {
   "cell_type": "code",
   "execution_count": 11,
   "metadata": {
    "executionInfo": {
     "elapsed": 4026,
     "status": "ok",
     "timestamp": 1670965242630,
     "user": {
      "displayName": "강민수",
      "userId": "02270149204876897928"
     },
     "user_tz": -540
    },
    "id": "FhUafh4XR67l"
   },
   "outputs": [],
   "source": [
    "X_train.to_csv('X_train_scale.csv', index = False)\n",
    "X_test.to_csv('X_test_scale.csv', index = False)"
   ]
  }
 ],
 "metadata": {
  "accelerator": "GPU",
  "colab": {
   "machine_shape": "hm",
   "provenance": []
  },
  "gpuClass": "premium",
  "kernelspec": {
   "display_name": "Python 3",
   "language": "python",
   "name": "python3"
  },
  "language_info": {
   "codemirror_mode": {
    "name": "ipython",
    "version": 3
   },
   "file_extension": ".py",
   "mimetype": "text/x-python",
   "name": "python",
   "nbconvert_exporter": "python",
   "pygments_lexer": "ipython3",
   "version": "3.8.5"
  }
 },
 "nbformat": 4,
 "nbformat_minor": 1
}
