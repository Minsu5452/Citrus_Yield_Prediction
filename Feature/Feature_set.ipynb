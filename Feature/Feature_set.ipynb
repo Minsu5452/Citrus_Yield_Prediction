{
 "cells": [
  {
   "cell_type": "code",
   "execution_count": 1,
   "id": "4b0e2a86",
   "metadata": {},
   "outputs": [],
   "source": [
    "import pandas as pd\n",
    "import numpy as np\n",
    "import random\n",
    "import os"
   ]
  },
  {
   "cell_type": "code",
   "execution_count": 2,
   "id": "c39403e5",
   "metadata": {},
   "outputs": [],
   "source": [
    "train = pd.read_csv('./data/train.csv')\n",
    "test = pd.read_csv('./data/test.csv')"
   ]
  },
  {
   "cell_type": "code",
   "execution_count": 3,
   "id": "f8d6221c",
   "metadata": {},
   "outputs": [],
   "source": [
    "X_train = train.drop(['ID','착과량(int)'], axis=1)\n",
    "X_test = test.drop(['ID'], axis=1)\n",
    "y_train = train['착과량(int)']"
   ]
  },
  {
   "cell_type": "code",
   "execution_count": 4,
   "id": "8c2bcf27",
   "metadata": {},
   "outputs": [],
   "source": [
    "def seed_everything(seed):\n",
    "    random.seed(seed)\n",
    "    os.environ['PYTHONHASHSEED'] = str(seed)\n",
    "    np.random.seed(seed)\n",
    "seed_everything(42) # Seed 고정"
   ]
  },
  {
   "cell_type": "code",
   "execution_count": 5,
   "id": "3f5a41e8",
   "metadata": {},
   "outputs": [],
   "source": [
    "X_train['9월_새순_mean'] = X_train.iloc[:,4:34].mean(axis = 1)\n",
    "X_train['9월_새순_std'] = X_train.iloc[:,4:34].std(axis = 1)\n",
    "X_train['9월_새순_var'] = X_train.iloc[:,4:34].var(axis = 1)\n",
    "X_train['10월_새순_mean'] = X_train.iloc[:,34:65].mean(axis = 1)\n",
    "X_train['10월_새순_std'] = X_train.iloc[:,34:65].std(axis = 1)\n",
    "X_train['10월_새순_var'] = X_train.iloc[:,34:65].var(axis = 1)\n",
    "X_train['11월_새순_mean'] = X_train.iloc[:,65:93].mean(axis = 1)\n",
    "X_train['11월_새순_std'] = X_train.iloc[:,65:93].std(axis = 1)\n",
    "X_train['11월_새순_var'] = X_train.iloc[:,65:93].var(axis = 1)\n",
    "X_train['9월_엽록소_mean'] = X_train.iloc[:,93:123].mean(axis = 1)\n",
    "X_train['9월_엽록소_std'] = X_train.iloc[:,93:123].std(axis = 1)\n",
    "X_train['9월_엽록소_var'] = X_train.iloc[:,93:123].var(axis = 1)\n",
    "X_train['10월_엽록소_mean'] = X_train.iloc[:,123:154].mean(axis = 1)\n",
    "X_train['10월_엽록소_std'] = X_train.iloc[:,123:154].std(axis = 1)\n",
    "X_train['10월_엽록소_var'] = X_train.iloc[:,123:154].var(axis = 1)\n",
    "X_train['11월_엽록소_mean'] = X_train.iloc[:,154:182].mean(axis = 1)\n",
    "X_train['11월_엽록소_std'] = X_train.iloc[:,154:182].std(axis = 1)\n",
    "X_train['11월_엽록소_var'] = X_train.iloc[:,154:182].var(axis = 1)"
   ]
  },
  {
   "cell_type": "code",
   "execution_count": 6,
   "id": "9f03adb9",
   "metadata": {},
   "outputs": [],
   "source": [
    "X_train['새순max'] = X_train.iloc[:,4:93].max(axis=1)\n",
    "X_train['새순min'] = X_train.iloc[:,4:93].min(axis=1)\n",
    "X_train['엽록소max'] = X_train.iloc[:,93:182].max(axis=1)\n",
    "X_train['엽록소min'] = X_train.iloc[:,93:182].min(axis=1)\n",
    "X_train['새순차이'] = X_train['새순max']-X_train['새순min']\n",
    "X_train['엽록소차이'] = X_train['엽록소max']-X_train['엽록소min']\n",
    "X_train['수고X수관폭'] = X_train['수고(m)']*X_train['수관폭평균']\n",
    "X_train['수관폭차이'] = X_train['수관폭2(max)']-X_train['수관폭1(min)']"
   ]
  },
  {
   "cell_type": "code",
   "execution_count": 7,
   "id": "374697e7",
   "metadata": {},
   "outputs": [],
   "source": [
    "for i in range(0,89):\n",
    "    X_train[f'새순+엽록소_{i}'] = X_train.iloc[:,4:93].iloc[:,i]+X_train.iloc[:,93:182].iloc[:,i]\n",
    "for i in range(0,89):\n",
    "    X_train[f'새순-엽록소_{i}'] = X_train.iloc[:,4:93].iloc[:,i]-X_train.iloc[:,93:182].iloc[:,i]\n",
    "for i in range(0,89):\n",
    "    X_train[f'새순*엽록소_{i}'] = X_train.iloc[:,4:93].iloc[:,i]*X_train.iloc[:,93:182].iloc[:,i]\n",
    "for i in range(0,89):\n",
    "    X_train[f'새순/엽록소_{i}'] = X_train.iloc[:,4:93].iloc[:,i]/X_train.iloc[:,93:182].iloc[:,i]"
   ]
  },
  {
   "cell_type": "code",
   "execution_count": 8,
   "id": "f6ac139f",
   "metadata": {},
   "outputs": [],
   "source": [
    "X_test['9월_새순_mean'] = X_test.iloc[:,4:34].mean(axis = 1)\n",
    "X_test['9월_새순_std'] = X_test.iloc[:,4:34].std(axis = 1)\n",
    "X_test['9월_새순_var'] = X_test.iloc[:,4:34].var(axis = 1)\n",
    "X_test['10월_새순_mean'] = X_test.iloc[:,34:65].mean(axis = 1)\n",
    "X_test['10월_새순_std'] = X_test.iloc[:,34:65].std(axis = 1)\n",
    "X_test['10월_새순_var'] = X_test.iloc[:,34:65].var(axis = 1)\n",
    "X_test['11월_새순_mean'] = X_test.iloc[:,65:93].mean(axis = 1)\n",
    "X_test['11월_새순_std'] = X_test.iloc[:,65:93].std(axis = 1)\n",
    "X_test['11월_새순_var'] = X_test.iloc[:,65:93].var(axis = 1)\n",
    "X_test['9월_엽록소_mean'] = X_test.iloc[:,93:123].mean(axis = 1)\n",
    "X_test['9월_엽록소_std'] = X_test.iloc[:,93:123].std(axis = 1)\n",
    "X_test['9월_엽록소_var'] = X_test.iloc[:,93:123].var(axis = 1)\n",
    "X_test['10월_엽록소_mean'] = X_test.iloc[:,123:154].mean(axis = 1)\n",
    "X_test['10월_엽록소_std'] = X_test.iloc[:,123:154].std(axis = 1)\n",
    "X_test['10월_엽록소_var'] = X_test.iloc[:,123:154].var(axis = 1)\n",
    "X_test['11월_엽록소_mean'] = X_test.iloc[:,154:182].mean(axis = 1)\n",
    "X_test['11월_엽록소_std'] = X_test.iloc[:,154:182].std(axis = 1)\n",
    "X_test['11월_엽록소_var'] = X_test.iloc[:,154:182].var(axis = 1)"
   ]
  },
  {
   "cell_type": "code",
   "execution_count": 9,
   "id": "e987a1e2",
   "metadata": {},
   "outputs": [],
   "source": [
    "X_test['새순max'] = X_test.iloc[:,4:93].max(axis=1)\n",
    "X_test['새순min'] = X_test.iloc[:,4:93].min(axis=1)\n",
    "X_test['엽록소max'] = X_test.iloc[:,93:182].max(axis=1)\n",
    "X_test['엽록소min'] = X_test.iloc[:,93:182].min(axis=1)\n",
    "X_test['새순차이'] = X_test['새순max']-X_test['새순min']\n",
    "X_test['엽록소차이'] = X_test['엽록소max']-X_test['엽록소min']\n",
    "X_test['수고X수관폭'] = X_test['수고(m)']*X_test['수관폭평균']\n",
    "X_test['수관폭차이'] = X_test['수관폭2(max)']-X_test['수관폭1(min)']"
   ]
  },
  {
   "cell_type": "code",
   "execution_count": 10,
   "id": "48e80fe3",
   "metadata": {},
   "outputs": [],
   "source": [
    "for i in range(0,89):\n",
    "    X_test[f'새순+엽록소_{i}'] = X_test.iloc[:,4:93].iloc[:,i]+X_test.iloc[:,93:182].iloc[:,i]\n",
    "for i in range(0,89):\n",
    "    X_test[f'새순-엽록소_{i}'] = X_test.iloc[:,4:93].iloc[:,i]-X_test.iloc[:,93:182].iloc[:,i]\n",
    "for i in range(0,89):\n",
    "    X_test[f'새순*엽록소_{i}'] = X_test.iloc[:,4:93].iloc[:,i]*X_test.iloc[:,93:182].iloc[:,i]\n",
    "for i in range(0,89):\n",
    "    X_test[f'새순/엽록소_{i}'] = X_test.iloc[:,4:93].iloc[:,i]/X_test.iloc[:,93:182].iloc[:,i]"
   ]
  },
  {
   "cell_type": "code",
   "execution_count": 11,
   "id": "96e2a39c",
   "metadata": {},
   "outputs": [
    {
     "data": {
      "text/plain": [
       "((2207, 564), (2208, 564))"
      ]
     },
     "execution_count": 11,
     "metadata": {},
     "output_type": "execute_result"
    }
   ],
   "source": [
    "X_train.shape, X_test.shape"
   ]
  },
  {
   "cell_type": "code",
   "execution_count": 12,
   "id": "98cf91af",
   "metadata": {},
   "outputs": [],
   "source": [
    "X_train.to_csv('X_train_set.csv', index = False)\n",
    "X_test.to_csv('X_test_set.csv', index = False)"
   ]
  }
 ],
 "metadata": {
  "kernelspec": {
   "display_name": "Python 3",
   "language": "python",
   "name": "python3"
  },
  "language_info": {
   "codemirror_mode": {
    "name": "ipython",
    "version": 3
   },
   "file_extension": ".py",
   "mimetype": "text/x-python",
   "name": "python",
   "nbconvert_exporter": "python",
   "pygments_lexer": "ipython3",
   "version": "3.8.5"
  }
 },
 "nbformat": 4,
 "nbformat_minor": 5
}
